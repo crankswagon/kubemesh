{
 "cells": [
  {
   "cell_type": "code",
   "execution_count": 3,
   "id": "a3226a28",
   "metadata": {},
   "outputs": [],
   "source": [
    "from pyspark import SparkConf\n",
    "from pyspark.sql import SparkSession\n",
    "\n",
    "\n",
    "conf = SparkConf()\n",
    "conf.setMaster(\"k8s://https://kubernetes.default.svc.cluster.local\")\n",
    "conf.set(\"spark.hadoop.fs.s3a.access.key\", \"minio\")\n",
    "conf.set(\"spark.hadoop.fs.s3a.secret.key\", \"minio123\")\n",
    "\n",
    "config = {\n",
    "    \"spark.kubernetes.namespace\": \"spark\",\n",
    "    \"spark.kubernetes.container.image\": \"registry.derp.work/datamechanics-spark3.2.1-java11:0.0.7\",\n",
    "    \"spark.executor.instances\": \"3\",\n",
    "    \"spark.executor.memory\": \"2g\",\n",
    "    \"spark.executor.cores\": \"2\",\n",
    "    \"spark.driver.blockManager.port\": \"7777\",\n",
    "    \"spark.driver.port\": \"2222\",\n",
    "    \"spark.driver.host\": \"jupyter.default.svc.cluster.local\",\n",
    "    \"spark.driver.bindAddress\": \"0.0.0.0\",\n",
    "    \"spark.hadoop.fs.s3a.endpoint\": \"http://192.168.2.75:9000\",\n",
    "    \"spark.hadoop.fs.s3a.path.style.access\": \"true\",\n",
    "    \"spark.hadoop.fs.s3a.attempts.maximum\": \"5\",\n",
    "    \"spark.hadoop.fs.s3a.connection.establish.timeout\": \"5000\",\n",
    "    \"spark.hadoop.fs.s3a.connection.timeout\": \"10000\",\n",
    "    \"spark.hadoop.fs.s3a.impl\": \"org.apache.hadoop.fs.s3a.S3AFileSystem\",\n",
    "    \"spark.hadoop.fs.s3a.connection.ssl.enabled\": \"false\",\n",
    "    \"log4j.logger.org.apache.spark.api.python.PythonGatewayServer\": \"INFO\",\n",
    "    \"spark.delta.logStore.class\": \"org.apache.spark.sql.delta.storage.S3SingleDriverLogStore\",\n",
    "    \"spark.sql.extensions\": \"io.delta.sql.DeltaSparkSessionExtension\",\n",
    "    \"spark.sql.catalog.spark_catalog\": \"org.apache.spark.sql.delta.catalog.DeltaCatalog\"\n",
    "    \n",
    "}\n",
    "\n",
    "def get_spark_session(app_name: str, conf: SparkConf):\n",
    "    for key, value in config.items():\n",
    "        conf.set(key, value)    \n",
    "    return SparkSession.builder.appName(app_name).config(conf=conf).getOrCreate()\n",
    "\n"
   ]
  },
  {
   "cell_type": "code",
   "execution_count": 4,
   "id": "440bae1f",
   "metadata": {},
   "outputs": [
    {
     "name": "stderr",
     "output_type": "stream",
     "text": [
      "Warning: Ignoring non-Spark config property: log4j.logger.org.apache.spark.api.python.PythonGatewayServer\n",
      "WARNING: An illegal reflective access operation has occurred\n",
      "WARNING: Illegal reflective access by org.apache.spark.unsafe.Platform (file:/opt/spark/jars/spark-unsafe_2.12-3.2.1.jar) to constructor java.nio.DirectByteBuffer(long,int)\n",
      "WARNING: Please consider reporting this to the maintainers of org.apache.spark.unsafe.Platform\n",
      "WARNING: Use --illegal-access=warn to enable warnings of further illegal reflective access operations\n",
      "WARNING: All illegal access operations will be denied in a future release\n",
      "22/04/08 05:43:45 WARN NativeCodeLoader: Unable to load native-hadoop library for your platform... using builtin-java classes where applicable\n",
      "Using Spark's default log4j profile: org/apache/spark/log4j-defaults.properties\n",
      "Setting default log level to \"WARN\".\n",
      "To adjust logging level use sc.setLogLevel(newLevel). For SparkR, use setLogLevel(newLevel).\n",
      "                                                                                \r"
     ]
    },
    {
     "data": {
      "text/plain": [
       "4999999950000000"
      ]
     },
     "execution_count": 4,
     "metadata": {},
     "output_type": "execute_result"
    }
   ],
   "source": [
    "spark=get_spark_session(\"derp\", conf)\n",
    "\n",
    "rdd = spark.sparkContext.parallelize(range(100000000))\n",
    "rdd.sum()\n"
   ]
  },
  {
   "cell_type": "code",
   "execution_count": 5,
   "id": "c69243cd",
   "metadata": {},
   "outputs": [
    {
     "name": "stderr",
     "output_type": "stream",
     "text": [
      "22/04/08 05:44:29 WARN MetricsConfig: Cannot locate configuration: tried hadoop-metrics2-s3a-file-system.properties,hadoop-metrics2.properties\n",
      "                                                                                \r"
     ]
    }
   ],
   "source": [
    "raw_df = spark.read.options(header='True', inferSchema='True').csv(\"s3a://movies-data/ml-20m/ratings.csv\")"
   ]
  },
  {
   "cell_type": "code",
   "execution_count": 6,
   "id": "d4858cdc",
   "metadata": {},
   "outputs": [
    {
     "name": "stderr",
     "output_type": "stream",
     "text": [
      "                                                                                \r"
     ]
    },
    {
     "data": {
      "text/plain": [
       "20000263"
      ]
     },
     "execution_count": 6,
     "metadata": {},
     "output_type": "execute_result"
    }
   ],
   "source": [
    "raw_df.count()"
   ]
  },
  {
   "cell_type": "code",
   "execution_count": 8,
   "id": "117c32d5",
   "metadata": {},
   "outputs": [
    {
     "name": "stderr",
     "output_type": "stream",
     "text": [
      "                                                                                \r"
     ]
    }
   ],
   "source": [
    "from delta import *\n",
    "\n",
    "raw_df.write\\\n",
    "      .format(\"delta\")\\\n",
    "      .mode(\"overwrite\")\\\n",
    "      .save(\"s3a://movies-data/delta-test/\")"
   ]
  },
  {
   "cell_type": "code",
   "execution_count": 12,
   "id": "506d4461",
   "metadata": {},
   "outputs": [
    {
     "name": "stderr",
     "output_type": "stream",
     "text": [
      "                                                                                \r"
     ]
    }
   ],
   "source": [
    "delta_df = spark.read\\\n",
    "                .format(\"delta\")\\\n",
    "                .load(\"s3a://movies-data/delta-test/\")"
   ]
  },
  {
   "cell_type": "code",
   "execution_count": 14,
   "id": "9f92efc7",
   "metadata": {},
   "outputs": [
    {
     "name": "stdout",
     "output_type": "stream",
     "text": [
      "+------+-------+------+----------+\n",
      "|userId|movieId|rating| timestamp|\n",
      "+------+-------+------+----------+\n",
      "|     1|      2|   3.5|1112486027|\n",
      "|     1|     29|   3.5|1112484676|\n",
      "|     1|     32|   3.5|1112484819|\n",
      "|     1|     47|   3.5|1112484727|\n",
      "|     1|     50|   3.5|1112484580|\n",
      "|     1|    112|   3.5|1094785740|\n",
      "|     1|    151|   4.0|1094785734|\n",
      "|     1|    223|   4.0|1112485573|\n",
      "|     1|    253|   4.0|1112484940|\n",
      "|     1|    260|   4.0|1112484826|\n",
      "|     1|    293|   4.0|1112484703|\n",
      "|     1|    296|   4.0|1112484767|\n",
      "|     1|    318|   4.0|1112484798|\n",
      "|     1|    337|   3.5|1094785709|\n",
      "|     1|    367|   3.5|1112485980|\n",
      "|     1|    541|   4.0|1112484603|\n",
      "|     1|    589|   3.5|1112485557|\n",
      "|     1|    593|   3.5|1112484661|\n",
      "|     1|    653|   3.0|1094785691|\n",
      "|     1|    919|   3.5|1094785621|\n",
      "+------+-------+------+----------+\n",
      "only showing top 20 rows\n",
      "\n"
     ]
    },
    {
     "name": "stderr",
     "output_type": "stream",
     "text": [
      "\r",
      "[Stage 29:>                                                         (0 + 1) / 1]\r",
      "\r",
      "                                                                                \r"
     ]
    }
   ],
   "source": [
    "delta_df.show()"
   ]
  },
  {
   "cell_type": "code",
   "execution_count": 15,
   "id": "546db768",
   "metadata": {},
   "outputs": [
    {
     "data": {
      "text/plain": [
       "20000263"
      ]
     },
     "execution_count": 15,
     "metadata": {},
     "output_type": "execute_result"
    }
   ],
   "source": [
    "delta_df.count()"
   ]
  },
  {
   "cell_type": "code",
   "execution_count": 16,
   "id": "a1ab898b",
   "metadata": {},
   "outputs": [],
   "source": [
    "delta_df.createOrReplaceTempView(\"ratings\")"
   ]
  },
  {
   "cell_type": "code",
   "execution_count": 70,
   "id": "e88c394b",
   "metadata": {},
   "outputs": [
    {
     "name": "stderr",
     "output_type": "stream",
     "text": [
      "\r",
      "[Stage 79:>                                                         (0 + 4) / 4]\r"
     ]
    },
    {
     "name": "stdout",
     "output_type": "stream",
     "text": [
      "+------+-------+------+----------+-------------------+\n",
      "|userId|movieId|rating| timestamp|    timestamp_human|\n",
      "+------+-------+------+----------+-------------------+\n",
      "| 35128|   5267|   2.0|1031147335|2002-09-04 13:48:55|\n",
      "| 35128|   5269|   4.0|1031147528|2002-09-04 13:52:08|\n",
      "| 35128|   5272|   5.0|1031147820|2002-09-04 13:57:00|\n",
      "| 35128|   5275|   3.5|1100192886|2004-11-11 17:08:06|\n",
      "| 35128|   5282|   2.0|1018270322|2002-04-08 12:52:02|\n",
      "| 35128|   5287|   5.0|1031583587|2002-09-09 14:59:47|\n",
      "| 35128|   5291|   5.0|1018270396|2002-04-08 12:53:16|\n",
      "| 35128|   5292|   4.0|1018270397|2002-04-08 12:53:17|\n",
      "| 35128|   5293|   5.0|1031147541|2002-09-04 13:52:21|\n",
      "| 35128|   5294|   5.0|1031147460|2002-09-04 13:51:00|\n",
      "| 35128|   5296|   1.0|1031147213|2002-09-04 13:46:53|\n",
      "| 35128|   5297|   4.0|1031147022|2002-09-04 13:43:42|\n",
      "| 35128|   5299|   3.0|1031147863|2002-09-04 13:57:43|\n",
      "| 35128|   5307|   3.0|1018270459|2002-04-08 12:54:19|\n",
      "| 35128|   5308|   2.0|1018270529|2002-04-08 12:55:29|\n",
      "| 35128|   5309|   2.0|1018270529|2002-04-08 12:55:29|\n",
      "| 35128|   5312|   2.0|1031148008|2002-09-04 14:00:08|\n",
      "| 35128|   5313|   2.0|1031148234|2002-09-04 14:03:54|\n",
      "| 35128|   5316|   4.0|1031147798|2002-09-04 13:56:38|\n",
      "| 35128|   5323|   1.0|1031148407|2002-09-04 14:06:47|\n",
      "+------+-------+------+----------+-------------------+\n",
      "only showing top 20 rows\n",
      "\n"
     ]
    },
    {
     "name": "stderr",
     "output_type": "stream",
     "text": [
      "\r",
      "                                                                                \r"
     ]
    }
   ],
   "source": [
    "ratings100 = spark.sql(\n",
    "'''\n",
    "select \n",
    "*\n",
    ", from_unixtime(timestamp) as timestamp_human\n",
    "from ratings limit 100\n",
    "'''\n",
    "\n",
    ")\n",
    "ratings100.show()"
   ]
  },
  {
   "cell_type": "code",
   "execution_count": 68,
   "id": "8f2b7fd2",
   "metadata": {},
   "outputs": [
    {
     "name": "stdout",
     "output_type": "stream",
     "text": [
      "Requirement already satisfied: pandas in /opt/conda/lib/python3.8/site-packages (1.4.2)\r\n",
      "Requirement already satisfied: pytz>=2020.1 in /opt/conda/lib/python3.8/site-packages (from pandas) (2022.1)\r\n",
      "Requirement already satisfied: python-dateutil>=2.8.1 in /opt/conda/lib/python3.8/site-packages (from pandas) (2.8.2)\r\n",
      "Requirement already satisfied: numpy>=1.18.5 in /opt/conda/lib/python3.8/site-packages (from pandas) (1.22.3)\r\n",
      "Requirement already satisfied: six>=1.5 in /opt/conda/lib/python3.8/site-packages (from python-dateutil>=2.8.1->pandas) (1.16.0)\r\n"
     ]
    }
   ],
   "source": [
    "!pip install pandas\n",
    "import pandas as pd"
   ]
  },
  {
   "cell_type": "code",
   "execution_count": 71,
   "id": "aab6701a",
   "metadata": {},
   "outputs": [
    {
     "data": {
      "text/html": [
       "<div>\n",
       "<style scoped>\n",
       "    .dataframe tbody tr th:only-of-type {\n",
       "        vertical-align: middle;\n",
       "    }\n",
       "\n",
       "    .dataframe tbody tr th {\n",
       "        vertical-align: top;\n",
       "    }\n",
       "\n",
       "    .dataframe thead th {\n",
       "        text-align: right;\n",
       "    }\n",
       "</style>\n",
       "<table border=\"1\" class=\"dataframe\">\n",
       "  <thead>\n",
       "    <tr style=\"text-align: right;\">\n",
       "      <th></th>\n",
       "      <th>userId</th>\n",
       "      <th>movieId</th>\n",
       "      <th>rating</th>\n",
       "      <th>timestamp</th>\n",
       "      <th>timestamp_human</th>\n",
       "    </tr>\n",
       "  </thead>\n",
       "  <tbody>\n",
       "    <tr>\n",
       "      <th>0</th>\n",
       "      <td>1</td>\n",
       "      <td>2</td>\n",
       "      <td>3.5</td>\n",
       "      <td>1112486027</td>\n",
       "      <td>2005-04-02 23:53:47</td>\n",
       "    </tr>\n",
       "    <tr>\n",
       "      <th>1</th>\n",
       "      <td>1</td>\n",
       "      <td>29</td>\n",
       "      <td>3.5</td>\n",
       "      <td>1112484676</td>\n",
       "      <td>2005-04-02 23:31:16</td>\n",
       "    </tr>\n",
       "    <tr>\n",
       "      <th>2</th>\n",
       "      <td>1</td>\n",
       "      <td>32</td>\n",
       "      <td>3.5</td>\n",
       "      <td>1112484819</td>\n",
       "      <td>2005-04-02 23:33:39</td>\n",
       "    </tr>\n",
       "    <tr>\n",
       "      <th>3</th>\n",
       "      <td>1</td>\n",
       "      <td>47</td>\n",
       "      <td>3.5</td>\n",
       "      <td>1112484727</td>\n",
       "      <td>2005-04-02 23:32:07</td>\n",
       "    </tr>\n",
       "    <tr>\n",
       "      <th>4</th>\n",
       "      <td>1</td>\n",
       "      <td>50</td>\n",
       "      <td>3.5</td>\n",
       "      <td>1112484580</td>\n",
       "      <td>2005-04-02 23:29:40</td>\n",
       "    </tr>\n",
       "    <tr>\n",
       "      <th>...</th>\n",
       "      <td>...</td>\n",
       "      <td>...</td>\n",
       "      <td>...</td>\n",
       "      <td>...</td>\n",
       "      <td>...</td>\n",
       "    </tr>\n",
       "    <tr>\n",
       "      <th>95</th>\n",
       "      <td>1</td>\n",
       "      <td>2947</td>\n",
       "      <td>3.5</td>\n",
       "      <td>1112485580</td>\n",
       "      <td>2005-04-02 23:46:20</td>\n",
       "    </tr>\n",
       "    <tr>\n",
       "      <th>96</th>\n",
       "      <td>1</td>\n",
       "      <td>2959</td>\n",
       "      <td>4.0</td>\n",
       "      <td>1094785698</td>\n",
       "      <td>2004-09-10 03:08:18</td>\n",
       "    </tr>\n",
       "    <tr>\n",
       "      <th>97</th>\n",
       "      <td>1</td>\n",
       "      <td>2968</td>\n",
       "      <td>4.0</td>\n",
       "      <td>1112485825</td>\n",
       "      <td>2005-04-02 23:50:25</td>\n",
       "    </tr>\n",
       "    <tr>\n",
       "      <th>98</th>\n",
       "      <td>1</td>\n",
       "      <td>3000</td>\n",
       "      <td>3.5</td>\n",
       "      <td>1112484569</td>\n",
       "      <td>2005-04-02 23:29:29</td>\n",
       "    </tr>\n",
       "    <tr>\n",
       "      <th>99</th>\n",
       "      <td>1</td>\n",
       "      <td>3030</td>\n",
       "      <td>3.0</td>\n",
       "      <td>1112484548</td>\n",
       "      <td>2005-04-02 23:29:08</td>\n",
       "    </tr>\n",
       "  </tbody>\n",
       "</table>\n",
       "<p>100 rows × 5 columns</p>\n",
       "</div>"
      ],
      "text/plain": [
       "    userId  movieId  rating   timestamp      timestamp_human\n",
       "0        1        2     3.5  1112486027  2005-04-02 23:53:47\n",
       "1        1       29     3.5  1112484676  2005-04-02 23:31:16\n",
       "2        1       32     3.5  1112484819  2005-04-02 23:33:39\n",
       "3        1       47     3.5  1112484727  2005-04-02 23:32:07\n",
       "4        1       50     3.5  1112484580  2005-04-02 23:29:40\n",
       "..     ...      ...     ...         ...                  ...\n",
       "95       1     2947     3.5  1112485580  2005-04-02 23:46:20\n",
       "96       1     2959     4.0  1094785698  2004-09-10 03:08:18\n",
       "97       1     2968     4.0  1112485825  2005-04-02 23:50:25\n",
       "98       1     3000     3.5  1112484569  2005-04-02 23:29:29\n",
       "99       1     3030     3.0  1112484548  2005-04-02 23:29:08\n",
       "\n",
       "[100 rows x 5 columns]"
      ]
     },
     "execution_count": 71,
     "metadata": {},
     "output_type": "execute_result"
    }
   ],
   "source": [
    "ratings100=ratings100.toPandas()\n",
    "ratings100"
   ]
  },
  {
   "cell_type": "code",
   "execution_count": null,
   "id": "f3faa907",
   "metadata": {},
   "outputs": [],
   "source": []
  }
 ],
 "metadata": {
  "kernelspec": {
   "display_name": "Python 3 (ipykernel)",
   "language": "python",
   "name": "python3"
  },
  "language_info": {
   "codemirror_mode": {
    "name": "ipython",
    "version": 3
   },
   "file_extension": ".py",
   "mimetype": "text/x-python",
   "name": "python",
   "nbconvert_exporter": "python",
   "pygments_lexer": "ipython3",
   "version": "3.8.13"
  }
 },
 "nbformat": 4,
 "nbformat_minor": 5
}
